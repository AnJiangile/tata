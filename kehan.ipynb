{
 "cells": [
  {
   "cell_type": "code",
   "execution_count": 1,
   "metadata": {},
   "outputs": [],
   "source": [
    "import pandas as pd\n",
    "import numpy as np\n",
    "import matplotlib\n",
    "import matplotlib.pyplot as plt\n",
    "\n",
    "import sklearn\n",
    "from sklearn import cluster\n",
    "\n",
    "%matplotlib inline"
   ]
  },
  {
   "cell_type": "code",
   "execution_count": 2,
   "metadata": {},
   "outputs": [],
   "source": [
    "xls = pd.ExcelFile('/Users/anjiang/Desktop/FP&A Case Study(1).xlsx')\n",
    "df = pd.read_excel(xls, 'Data')"
   ]
  },
  {
   "cell_type": "code",
   "execution_count": 3,
   "metadata": {},
   "outputs": [
    {
     "data": {
      "text/html": [
       "<div>\n",
       "<style scoped>\n",
       "    .dataframe tbody tr th:only-of-type {\n",
       "        vertical-align: middle;\n",
       "    }\n",
       "\n",
       "    .dataframe tbody tr th {\n",
       "        vertical-align: top;\n",
       "    }\n",
       "\n",
       "    .dataframe thead th {\n",
       "        text-align: right;\n",
       "    }\n",
       "</style>\n",
       "<table border=\"1\" class=\"dataframe\">\n",
       "  <thead>\n",
       "    <tr style=\"text-align: right;\">\n",
       "      <th></th>\n",
       "      <th>Time of customer support inbound contact</th>\n",
       "      <th>Order Id</th>\n",
       "      <th>Customer rating</th>\n",
       "      <th>Region</th>\n",
       "    </tr>\n",
       "  </thead>\n",
       "  <tbody>\n",
       "    <tr>\n",
       "      <td>0</td>\n",
       "      <td>2014-06-02 04:23:16 UTC</td>\n",
       "      <td>233599337</td>\n",
       "      <td>5</td>\n",
       "      <td>Midwest</td>\n",
       "    </tr>\n",
       "    <tr>\n",
       "      <td>1</td>\n",
       "      <td>2014-06-02 03:57:50 UTC</td>\n",
       "      <td>233599376</td>\n",
       "      <td>5</td>\n",
       "      <td>Midwest</td>\n",
       "    </tr>\n",
       "    <tr>\n",
       "      <td>2</td>\n",
       "      <td>2014-06-02 02:52:38 UTC</td>\n",
       "      <td>233599328</td>\n",
       "      <td>5</td>\n",
       "      <td>Midwest</td>\n",
       "    </tr>\n",
       "    <tr>\n",
       "      <td>3</td>\n",
       "      <td>2014-06-02 02:52:04 UTC</td>\n",
       "      <td>233599070</td>\n",
       "      <td>5</td>\n",
       "      <td>Midwest</td>\n",
       "    </tr>\n",
       "    <tr>\n",
       "      <td>4</td>\n",
       "      <td>2014-06-02 02:41:43 UTC</td>\n",
       "      <td>233599100</td>\n",
       "      <td>5</td>\n",
       "      <td>Midwest</td>\n",
       "    </tr>\n",
       "  </tbody>\n",
       "</table>\n",
       "</div>"
      ],
      "text/plain": [
       "  Time of customer support inbound contact   Order Id  Customer rating  \\\n",
       "0                  2014-06-02 04:23:16 UTC  233599337                5   \n",
       "1                  2014-06-02 03:57:50 UTC  233599376                5   \n",
       "2                  2014-06-02 02:52:38 UTC  233599328                5   \n",
       "3                  2014-06-02 02:52:04 UTC  233599070                5   \n",
       "4                  2014-06-02 02:41:43 UTC  233599100                5   \n",
       "\n",
       "    Region  \n",
       "0  Midwest  \n",
       "1  Midwest  \n",
       "2  Midwest  \n",
       "3  Midwest  \n",
       "4  Midwest  "
      ]
     },
     "execution_count": 3,
     "metadata": {},
     "output_type": "execute_result"
    }
   ],
   "source": [
    "df.head()"
   ]
  },
  {
   "cell_type": "code",
   "execution_count": 4,
   "metadata": {},
   "outputs": [],
   "source": [
    "df = df.rename(columns={\"Time of customer support inbound contact\": \"Time\", \"Order Id\": \"Order\", \"Customer rating\": \"Rating\"})"
   ]
  },
  {
   "cell_type": "code",
   "execution_count": 5,
   "metadata": {},
   "outputs": [
    {
     "data": {
      "text/html": [
       "<div>\n",
       "<style scoped>\n",
       "    .dataframe tbody tr th:only-of-type {\n",
       "        vertical-align: middle;\n",
       "    }\n",
       "\n",
       "    .dataframe tbody tr th {\n",
       "        vertical-align: top;\n",
       "    }\n",
       "\n",
       "    .dataframe thead th {\n",
       "        text-align: right;\n",
       "    }\n",
       "</style>\n",
       "<table border=\"1\" class=\"dataframe\">\n",
       "  <thead>\n",
       "    <tr style=\"text-align: right;\">\n",
       "      <th></th>\n",
       "      <th>Order</th>\n",
       "      <th>Rating</th>\n",
       "    </tr>\n",
       "  </thead>\n",
       "  <tbody>\n",
       "    <tr>\n",
       "      <td>count</td>\n",
       "      <td>1.495700e+04</td>\n",
       "      <td>14957.000000</td>\n",
       "    </tr>\n",
       "    <tr>\n",
       "      <td>mean</td>\n",
       "      <td>1.041118e+08</td>\n",
       "      <td>4.558200</td>\n",
       "    </tr>\n",
       "    <tr>\n",
       "      <td>std</td>\n",
       "      <td>1.159783e+08</td>\n",
       "      <td>1.002157</td>\n",
       "    </tr>\n",
       "    <tr>\n",
       "      <td>min</td>\n",
       "      <td>2.080560e+05</td>\n",
       "      <td>0.000000</td>\n",
       "    </tr>\n",
       "    <tr>\n",
       "      <td>25%</td>\n",
       "      <td>2.329820e+05</td>\n",
       "      <td>5.000000</td>\n",
       "    </tr>\n",
       "    <tr>\n",
       "      <td>50%</td>\n",
       "      <td>2.458290e+05</td>\n",
       "      <td>5.000000</td>\n",
       "    </tr>\n",
       "    <tr>\n",
       "      <td>75%</td>\n",
       "      <td>2.335890e+08</td>\n",
       "      <td>5.000000</td>\n",
       "    </tr>\n",
       "    <tr>\n",
       "      <td>max</td>\n",
       "      <td>2.336147e+08</td>\n",
       "      <td>5.000000</td>\n",
       "    </tr>\n",
       "  </tbody>\n",
       "</table>\n",
       "</div>"
      ],
      "text/plain": [
       "              Order        Rating\n",
       "count  1.495700e+04  14957.000000\n",
       "mean   1.041118e+08      4.558200\n",
       "std    1.159783e+08      1.002157\n",
       "min    2.080560e+05      0.000000\n",
       "25%    2.329820e+05      5.000000\n",
       "50%    2.458290e+05      5.000000\n",
       "75%    2.335890e+08      5.000000\n",
       "max    2.336147e+08      5.000000"
      ]
     },
     "execution_count": 5,
     "metadata": {},
     "output_type": "execute_result"
    }
   ],
   "source": [
    "df.describe()"
   ]
  },
  {
   "cell_type": "code",
   "execution_count": 6,
   "metadata": {},
   "outputs": [
    {
     "data": {
      "text/plain": [
       "Region\n",
       "East Coast     4.431008\n",
       "Midwest        4.711820\n",
       "West Coast     4.661959\n",
       "West Coast     2.678841\n",
       "Name: Rating, dtype: float64"
      ]
     },
     "execution_count": 6,
     "metadata": {},
     "output_type": "execute_result"
    }
   ],
   "source": [
    "df.groupby([\"Region\"])[\"Rating\"].mean()"
   ]
  },
  {
   "cell_type": "code",
   "execution_count": 7,
   "metadata": {},
   "outputs": [
    {
     "data": {
      "text/plain": [
       "Region\n",
       "East Coast     1290\n",
       "Midwest        6430\n",
       "West Coast     6443\n",
       "West Coast      794\n",
       "Name: Order, dtype: int64"
      ]
     },
     "execution_count": 7,
     "metadata": {},
     "output_type": "execute_result"
    }
   ],
   "source": [
    "df.groupby([\"Region\"]).Order.size()"
   ]
  },
  {
   "cell_type": "code",
   "execution_count": 8,
   "metadata": {},
   "outputs": [
    {
     "data": {
      "text/plain": [
       "Order\n",
       "237775       6\n",
       "246371       6\n",
       "233598760    6\n",
       "228263       5\n",
       "226403       5\n",
       "233593904    4\n",
       "237047       4\n",
       "225504       4\n",
       "225930       4\n",
       "226459       4\n",
       "233595140    4\n",
       "227877       4\n",
       "233582839    4\n",
       "233591621    4\n",
       "238011       4\n",
       "228376       4\n",
       "232485       4\n",
       "233593515    4\n",
       "233587170    4\n",
       "233584871    4\n",
       "233593612    4\n",
       "244584       4\n",
       "233585564    4\n",
       "247296       4\n",
       "241730       4\n",
       "245829       4\n",
       "233585093    4\n",
       "233585002    3\n",
       "233593180    3\n",
       "237147       3\n",
       "dtype: int64"
      ]
     },
     "execution_count": 8,
     "metadata": {},
     "output_type": "execute_result"
    }
   ],
   "source": [
    "df.groupby([\"Order\"]).size().sort_values(ascending=False).head(30)"
   ]
  },
  {
   "cell_type": "code",
   "execution_count": 9,
   "metadata": {},
   "outputs": [
    {
     "data": {
      "text/html": [
       "<div>\n",
       "<style scoped>\n",
       "    .dataframe tbody tr th:only-of-type {\n",
       "        vertical-align: middle;\n",
       "    }\n",
       "\n",
       "    .dataframe tbody tr th {\n",
       "        vertical-align: top;\n",
       "    }\n",
       "\n",
       "    .dataframe thead th {\n",
       "        text-align: right;\n",
       "    }\n",
       "</style>\n",
       "<table border=\"1\" class=\"dataframe\">\n",
       "  <thead>\n",
       "    <tr style=\"text-align: right;\">\n",
       "      <th></th>\n",
       "      <th>Time</th>\n",
       "      <th>Order</th>\n",
       "      <th>Rating</th>\n",
       "      <th>Region</th>\n",
       "    </tr>\n",
       "  </thead>\n",
       "  <tbody>\n",
       "    <tr>\n",
       "      <td>7665</td>\n",
       "      <td>2014-05-12 21:53:37 UTC</td>\n",
       "      <td>237775</td>\n",
       "      <td>3</td>\n",
       "      <td>East Coast</td>\n",
       "    </tr>\n",
       "    <tr>\n",
       "      <td>7666</td>\n",
       "      <td>2014-05-12 21:53:37 UTC</td>\n",
       "      <td>237775</td>\n",
       "      <td>3</td>\n",
       "      <td>East Coast</td>\n",
       "    </tr>\n",
       "    <tr>\n",
       "      <td>7667</td>\n",
       "      <td>2014-05-12 21:53:37 UTC</td>\n",
       "      <td>237775</td>\n",
       "      <td>3</td>\n",
       "      <td>East Coast</td>\n",
       "    </tr>\n",
       "    <tr>\n",
       "      <td>7668</td>\n",
       "      <td>2014-05-12 21:53:37 UTC</td>\n",
       "      <td>237775</td>\n",
       "      <td>3</td>\n",
       "      <td>East Coast</td>\n",
       "    </tr>\n",
       "    <tr>\n",
       "      <td>7669</td>\n",
       "      <td>2014-05-12 21:53:37 UTC</td>\n",
       "      <td>237775</td>\n",
       "      <td>3</td>\n",
       "      <td>East Coast</td>\n",
       "    </tr>\n",
       "    <tr>\n",
       "      <td>7670</td>\n",
       "      <td>2014-05-12 21:53:37 UTC</td>\n",
       "      <td>237775</td>\n",
       "      <td>3</td>\n",
       "      <td>East Coast</td>\n",
       "    </tr>\n",
       "  </tbody>\n",
       "</table>\n",
       "</div>"
      ],
      "text/plain": [
       "                         Time   Order  Rating      Region\n",
       "7665  2014-05-12 21:53:37 UTC  237775       3  East Coast\n",
       "7666  2014-05-12 21:53:37 UTC  237775       3  East Coast\n",
       "7667  2014-05-12 21:53:37 UTC  237775       3  East Coast\n",
       "7668  2014-05-12 21:53:37 UTC  237775       3  East Coast\n",
       "7669  2014-05-12 21:53:37 UTC  237775       3  East Coast\n",
       "7670  2014-05-12 21:53:37 UTC  237775       3  East Coast"
      ]
     },
     "execution_count": 9,
     "metadata": {},
     "output_type": "execute_result"
    }
   ],
   "source": [
    "df[df.Order==237775]"
   ]
  },
  {
   "cell_type": "code",
   "execution_count": 10,
   "metadata": {},
   "outputs": [
    {
     "data": {
      "text/html": [
       "<div>\n",
       "<style scoped>\n",
       "    .dataframe tbody tr th:only-of-type {\n",
       "        vertical-align: middle;\n",
       "    }\n",
       "\n",
       "    .dataframe tbody tr th {\n",
       "        vertical-align: top;\n",
       "    }\n",
       "\n",
       "    .dataframe thead th {\n",
       "        text-align: right;\n",
       "    }\n",
       "</style>\n",
       "<table border=\"1\" class=\"dataframe\">\n",
       "  <thead>\n",
       "    <tr style=\"text-align: right;\">\n",
       "      <th></th>\n",
       "      <th>Time</th>\n",
       "      <th>Order</th>\n",
       "      <th>Rating</th>\n",
       "      <th>Region</th>\n",
       "    </tr>\n",
       "  </thead>\n",
       "  <tbody>\n",
       "    <tr>\n",
       "      <td>13927</td>\n",
       "      <td>2014-05-19 00:44:44 UTC</td>\n",
       "      <td>246371</td>\n",
       "      <td>2</td>\n",
       "      <td>West Coast</td>\n",
       "    </tr>\n",
       "    <tr>\n",
       "      <td>13928</td>\n",
       "      <td>2014-05-19 00:44:44 UTC</td>\n",
       "      <td>246371</td>\n",
       "      <td>2</td>\n",
       "      <td>West Coast</td>\n",
       "    </tr>\n",
       "    <tr>\n",
       "      <td>13929</td>\n",
       "      <td>2014-05-19 00:44:44 UTC</td>\n",
       "      <td>246371</td>\n",
       "      <td>2</td>\n",
       "      <td>West Coast</td>\n",
       "    </tr>\n",
       "    <tr>\n",
       "      <td>13930</td>\n",
       "      <td>2014-05-19 00:44:44 UTC</td>\n",
       "      <td>246371</td>\n",
       "      <td>2</td>\n",
       "      <td>West Coast</td>\n",
       "    </tr>\n",
       "    <tr>\n",
       "      <td>13931</td>\n",
       "      <td>2014-05-19 00:44:44 UTC</td>\n",
       "      <td>246371</td>\n",
       "      <td>2</td>\n",
       "      <td>West Coast</td>\n",
       "    </tr>\n",
       "    <tr>\n",
       "      <td>13932</td>\n",
       "      <td>2014-05-19 00:44:44 UTC</td>\n",
       "      <td>246371</td>\n",
       "      <td>2</td>\n",
       "      <td>West Coast</td>\n",
       "    </tr>\n",
       "  </tbody>\n",
       "</table>\n",
       "</div>"
      ],
      "text/plain": [
       "                          Time   Order  Rating      Region\n",
       "13927  2014-05-19 00:44:44 UTC  246371       2  West Coast\n",
       "13928  2014-05-19 00:44:44 UTC  246371       2  West Coast\n",
       "13929  2014-05-19 00:44:44 UTC  246371       2  West Coast\n",
       "13930  2014-05-19 00:44:44 UTC  246371       2  West Coast\n",
       "13931  2014-05-19 00:44:44 UTC  246371       2  West Coast\n",
       "13932  2014-05-19 00:44:44 UTC  246371       2  West Coast"
      ]
     },
     "execution_count": 10,
     "metadata": {},
     "output_type": "execute_result"
    }
   ],
   "source": [
    "df[df.Order==246371]"
   ]
  },
  {
   "cell_type": "code",
   "execution_count": 11,
   "metadata": {},
   "outputs": [
    {
     "data": {
      "text/html": [
       "<div>\n",
       "<style scoped>\n",
       "    .dataframe tbody tr th:only-of-type {\n",
       "        vertical-align: middle;\n",
       "    }\n",
       "\n",
       "    .dataframe tbody tr th {\n",
       "        vertical-align: top;\n",
       "    }\n",
       "\n",
       "    .dataframe thead th {\n",
       "        text-align: right;\n",
       "    }\n",
       "</style>\n",
       "<table border=\"1\" class=\"dataframe\">\n",
       "  <thead>\n",
       "    <tr style=\"text-align: right;\">\n",
       "      <th></th>\n",
       "      <th>Time</th>\n",
       "      <th>Order</th>\n",
       "      <th>Rating</th>\n",
       "      <th>Region</th>\n",
       "    </tr>\n",
       "  </thead>\n",
       "  <tbody>\n",
       "    <tr>\n",
       "      <td>6297</td>\n",
       "      <td>2014-06-02 01:07:38 UTC</td>\n",
       "      <td>233598760</td>\n",
       "      <td>1</td>\n",
       "      <td>Midwest</td>\n",
       "    </tr>\n",
       "    <tr>\n",
       "      <td>6298</td>\n",
       "      <td>2014-06-02 01:07:38 UTC</td>\n",
       "      <td>233598760</td>\n",
       "      <td>1</td>\n",
       "      <td>Midwest</td>\n",
       "    </tr>\n",
       "    <tr>\n",
       "      <td>6299</td>\n",
       "      <td>2014-06-02 01:07:38 UTC</td>\n",
       "      <td>233598760</td>\n",
       "      <td>1</td>\n",
       "      <td>Midwest</td>\n",
       "    </tr>\n",
       "    <tr>\n",
       "      <td>6300</td>\n",
       "      <td>2014-06-02 01:07:38 UTC</td>\n",
       "      <td>233598760</td>\n",
       "      <td>1</td>\n",
       "      <td>Midwest</td>\n",
       "    </tr>\n",
       "    <tr>\n",
       "      <td>6301</td>\n",
       "      <td>2014-06-02 01:07:38 UTC</td>\n",
       "      <td>233598760</td>\n",
       "      <td>1</td>\n",
       "      <td>Midwest</td>\n",
       "    </tr>\n",
       "    <tr>\n",
       "      <td>6302</td>\n",
       "      <td>2014-06-02 01:07:38 UTC</td>\n",
       "      <td>233598760</td>\n",
       "      <td>1</td>\n",
       "      <td>Midwest</td>\n",
       "    </tr>\n",
       "  </tbody>\n",
       "</table>\n",
       "</div>"
      ],
      "text/plain": [
       "                         Time      Order  Rating   Region\n",
       "6297  2014-06-02 01:07:38 UTC  233598760       1  Midwest\n",
       "6298  2014-06-02 01:07:38 UTC  233598760       1  Midwest\n",
       "6299  2014-06-02 01:07:38 UTC  233598760       1  Midwest\n",
       "6300  2014-06-02 01:07:38 UTC  233598760       1  Midwest\n",
       "6301  2014-06-02 01:07:38 UTC  233598760       1  Midwest\n",
       "6302  2014-06-02 01:07:38 UTC  233598760       1  Midwest"
      ]
     },
     "execution_count": 11,
     "metadata": {},
     "output_type": "execute_result"
    }
   ],
   "source": [
    "df[df.Order==233598760]"
   ]
  },
  {
   "cell_type": "code",
   "execution_count": 12,
   "metadata": {},
   "outputs": [
    {
     "data": {
      "text/html": [
       "<div>\n",
       "<style scoped>\n",
       "    .dataframe tbody tr th:only-of-type {\n",
       "        vertical-align: middle;\n",
       "    }\n",
       "\n",
       "    .dataframe tbody tr th {\n",
       "        vertical-align: top;\n",
       "    }\n",
       "\n",
       "    .dataframe thead th {\n",
       "        text-align: right;\n",
       "    }\n",
       "</style>\n",
       "<table border=\"1\" class=\"dataframe\">\n",
       "  <thead>\n",
       "    <tr style=\"text-align: right;\">\n",
       "      <th></th>\n",
       "      <th>Time</th>\n",
       "      <th>Order</th>\n",
       "      <th>Rating</th>\n",
       "      <th>Region</th>\n",
       "    </tr>\n",
       "  </thead>\n",
       "  <tbody>\n",
       "    <tr>\n",
       "      <td>12062</td>\n",
       "      <td>2014-05-07 01:16:55 UTC</td>\n",
       "      <td>228263</td>\n",
       "      <td>5</td>\n",
       "      <td>West Coast</td>\n",
       "    </tr>\n",
       "    <tr>\n",
       "      <td>12063</td>\n",
       "      <td>2014-05-07 01:16:55 UTC</td>\n",
       "      <td>228263</td>\n",
       "      <td>5</td>\n",
       "      <td>West Coast</td>\n",
       "    </tr>\n",
       "    <tr>\n",
       "      <td>12064</td>\n",
       "      <td>2014-05-07 01:16:55 UTC</td>\n",
       "      <td>228263</td>\n",
       "      <td>5</td>\n",
       "      <td>West Coast</td>\n",
       "    </tr>\n",
       "    <tr>\n",
       "      <td>12065</td>\n",
       "      <td>2014-05-07 01:16:55 UTC</td>\n",
       "      <td>228263</td>\n",
       "      <td>5</td>\n",
       "      <td>West Coast</td>\n",
       "    </tr>\n",
       "    <tr>\n",
       "      <td>12066</td>\n",
       "      <td>2014-05-07 01:16:55 UTC</td>\n",
       "      <td>228263</td>\n",
       "      <td>5</td>\n",
       "      <td>West Coast</td>\n",
       "    </tr>\n",
       "  </tbody>\n",
       "</table>\n",
       "</div>"
      ],
      "text/plain": [
       "                          Time   Order  Rating      Region\n",
       "12062  2014-05-07 01:16:55 UTC  228263       5  West Coast\n",
       "12063  2014-05-07 01:16:55 UTC  228263       5  West Coast\n",
       "12064  2014-05-07 01:16:55 UTC  228263       5  West Coast\n",
       "12065  2014-05-07 01:16:55 UTC  228263       5  West Coast\n",
       "12066  2014-05-07 01:16:55 UTC  228263       5  West Coast"
      ]
     },
     "execution_count": 12,
     "metadata": {},
     "output_type": "execute_result"
    }
   ],
   "source": [
    "df[df.Order==228263]"
   ]
  },
  {
   "cell_type": "code",
   "execution_count": 13,
   "metadata": {},
   "outputs": [
    {
     "data": {
      "text/html": [
       "<div>\n",
       "<style scoped>\n",
       "    .dataframe tbody tr th:only-of-type {\n",
       "        vertical-align: middle;\n",
       "    }\n",
       "\n",
       "    .dataframe tbody tr th {\n",
       "        vertical-align: top;\n",
       "    }\n",
       "\n",
       "    .dataframe thead th {\n",
       "        text-align: right;\n",
       "    }\n",
       "</style>\n",
       "<table border=\"1\" class=\"dataframe\">\n",
       "  <thead>\n",
       "    <tr style=\"text-align: right;\">\n",
       "      <th></th>\n",
       "      <th>Time</th>\n",
       "      <th>Order</th>\n",
       "      <th>Rating</th>\n",
       "      <th>Region</th>\n",
       "    </tr>\n",
       "  </thead>\n",
       "  <tbody>\n",
       "    <tr>\n",
       "      <td>13972</td>\n",
       "      <td>2014-05-06 03:08:25 UTC</td>\n",
       "      <td>226403</td>\n",
       "      <td>2</td>\n",
       "      <td>West Coast</td>\n",
       "    </tr>\n",
       "    <tr>\n",
       "      <td>13973</td>\n",
       "      <td>2014-05-06 03:08:25 UTC</td>\n",
       "      <td>226403</td>\n",
       "      <td>2</td>\n",
       "      <td>West Coast</td>\n",
       "    </tr>\n",
       "    <tr>\n",
       "      <td>13974</td>\n",
       "      <td>2014-05-06 03:08:25 UTC</td>\n",
       "      <td>226403</td>\n",
       "      <td>2</td>\n",
       "      <td>West Coast</td>\n",
       "    </tr>\n",
       "    <tr>\n",
       "      <td>13975</td>\n",
       "      <td>2014-05-06 03:08:25 UTC</td>\n",
       "      <td>226403</td>\n",
       "      <td>2</td>\n",
       "      <td>West Coast</td>\n",
       "    </tr>\n",
       "    <tr>\n",
       "      <td>13976</td>\n",
       "      <td>2014-05-06 03:08:25 UTC</td>\n",
       "      <td>226403</td>\n",
       "      <td>2</td>\n",
       "      <td>West Coast</td>\n",
       "    </tr>\n",
       "  </tbody>\n",
       "</table>\n",
       "</div>"
      ],
      "text/plain": [
       "                          Time   Order  Rating      Region\n",
       "13972  2014-05-06 03:08:25 UTC  226403       2  West Coast\n",
       "13973  2014-05-06 03:08:25 UTC  226403       2  West Coast\n",
       "13974  2014-05-06 03:08:25 UTC  226403       2  West Coast\n",
       "13975  2014-05-06 03:08:25 UTC  226403       2  West Coast\n",
       "13976  2014-05-06 03:08:25 UTC  226403       2  West Coast"
      ]
     },
     "execution_count": 13,
     "metadata": {},
     "output_type": "execute_result"
    }
   ],
   "source": [
    "df[df.Order==226403]"
   ]
  },
  {
   "cell_type": "code",
   "execution_count": 14,
   "metadata": {},
   "outputs": [
    {
     "data": {
      "text/html": [
       "<div>\n",
       "<style scoped>\n",
       "    .dataframe tbody tr th:only-of-type {\n",
       "        vertical-align: middle;\n",
       "    }\n",
       "\n",
       "    .dataframe tbody tr th {\n",
       "        vertical-align: top;\n",
       "    }\n",
       "\n",
       "    .dataframe thead th {\n",
       "        text-align: right;\n",
       "    }\n",
       "</style>\n",
       "<table border=\"1\" class=\"dataframe\">\n",
       "  <thead>\n",
       "    <tr style=\"text-align: right;\">\n",
       "      <th></th>\n",
       "      <th>Time</th>\n",
       "      <th>Order</th>\n",
       "      <th>Rating</th>\n",
       "      <th>Region</th>\n",
       "    </tr>\n",
       "  </thead>\n",
       "  <tbody>\n",
       "    <tr>\n",
       "      <td>12112</td>\n",
       "      <td>2014-05-06 21:04:48 UTC</td>\n",
       "      <td>208056</td>\n",
       "      <td>5</td>\n",
       "      <td>West Coast</td>\n",
       "    </tr>\n",
       "  </tbody>\n",
       "</table>\n",
       "</div>"
      ],
      "text/plain": [
       "                          Time   Order  Rating      Region\n",
       "12112  2014-05-06 21:04:48 UTC  208056       5  West Coast"
      ]
     },
     "execution_count": 14,
     "metadata": {},
     "output_type": "execute_result"
    }
   ],
   "source": [
    "df[df.Order==208056]"
   ]
  },
  {
   "cell_type": "code",
   "execution_count": 15,
   "metadata": {},
   "outputs": [
    {
     "data": {
      "text/html": [
       "<div>\n",
       "<style scoped>\n",
       "    .dataframe tbody tr th:only-of-type {\n",
       "        vertical-align: middle;\n",
       "    }\n",
       "\n",
       "    .dataframe tbody tr th {\n",
       "        vertical-align: top;\n",
       "    }\n",
       "\n",
       "    .dataframe thead th {\n",
       "        text-align: right;\n",
       "    }\n",
       "</style>\n",
       "<table border=\"1\" class=\"dataframe\">\n",
       "  <thead>\n",
       "    <tr style=\"text-align: right;\">\n",
       "      <th></th>\n",
       "      <th>Time</th>\n",
       "      <th>Order</th>\n",
       "      <th>Rating</th>\n",
       "      <th>Region</th>\n",
       "    </tr>\n",
       "  </thead>\n",
       "  <tbody>\n",
       "    <tr>\n",
       "      <td>11608</td>\n",
       "      <td>2014-05-10 00:59:31 UTC</td>\n",
       "      <td>232485</td>\n",
       "      <td>5</td>\n",
       "      <td>West Coast</td>\n",
       "    </tr>\n",
       "    <tr>\n",
       "      <td>11609</td>\n",
       "      <td>2014-05-10 00:53:01 UTC</td>\n",
       "      <td>232485</td>\n",
       "      <td>5</td>\n",
       "      <td>West Coast</td>\n",
       "    </tr>\n",
       "    <tr>\n",
       "      <td>11613</td>\n",
       "      <td>2014-05-10 00:36:03 UTC</td>\n",
       "      <td>232485</td>\n",
       "      <td>5</td>\n",
       "      <td>West Coast</td>\n",
       "    </tr>\n",
       "    <tr>\n",
       "      <td>11615</td>\n",
       "      <td>2014-05-10 00:19:26 UTC</td>\n",
       "      <td>232485</td>\n",
       "      <td>5</td>\n",
       "      <td>West Coast</td>\n",
       "    </tr>\n",
       "  </tbody>\n",
       "</table>\n",
       "</div>"
      ],
      "text/plain": [
       "                          Time   Order  Rating      Region\n",
       "11608  2014-05-10 00:59:31 UTC  232485       5  West Coast\n",
       "11609  2014-05-10 00:53:01 UTC  232485       5  West Coast\n",
       "11613  2014-05-10 00:36:03 UTC  232485       5  West Coast\n",
       "11615  2014-05-10 00:19:26 UTC  232485       5  West Coast"
      ]
     },
     "execution_count": 15,
     "metadata": {},
     "output_type": "execute_result"
    }
   ],
   "source": [
    "df[df.Order==232485]"
   ]
  },
  {
   "cell_type": "code",
   "execution_count": 16,
   "metadata": {},
   "outputs": [],
   "source": [
    "df[\"Date\"] = 0\n",
    "df[\"Hour\"] = 0"
   ]
  },
  {
   "cell_type": "code",
   "execution_count": 17,
   "metadata": {},
   "outputs": [
    {
     "name": "stderr",
     "output_type": "stream",
     "text": [
      "/Users/anjiang/opt/anaconda3/lib/python3.7/site-packages/pandas/core/indexing.py:205: SettingWithCopyWarning: \n",
      "A value is trying to be set on a copy of a slice from a DataFrame\n",
      "\n",
      "See the caveats in the documentation: http://pandas.pydata.org/pandas-docs/stable/user_guide/indexing.html#returning-a-view-versus-a-copy\n",
      "  self._setitem_with_indexer(indexer, value)\n"
     ]
    }
   ],
   "source": [
    "for i in range(len(df)):\n",
    "    df[\"Date\"].iloc[i] = df[\"Time\"].iloc[i].split(\" \")[0]\n",
    "    df[\"Hour\"].iloc[i] = df[\"Time\"].iloc[i].split(\" \")[1].split(\":\")[0]"
   ]
  },
  {
   "cell_type": "code",
   "execution_count": 18,
   "metadata": {},
   "outputs": [
    {
     "data": {
      "text/html": [
       "<div>\n",
       "<style scoped>\n",
       "    .dataframe tbody tr th:only-of-type {\n",
       "        vertical-align: middle;\n",
       "    }\n",
       "\n",
       "    .dataframe tbody tr th {\n",
       "        vertical-align: top;\n",
       "    }\n",
       "\n",
       "    .dataframe thead th {\n",
       "        text-align: right;\n",
       "    }\n",
       "</style>\n",
       "<table border=\"1\" class=\"dataframe\">\n",
       "  <thead>\n",
       "    <tr style=\"text-align: right;\">\n",
       "      <th></th>\n",
       "      <th>Time</th>\n",
       "      <th>Order</th>\n",
       "      <th>Rating</th>\n",
       "      <th>Region</th>\n",
       "      <th>Date</th>\n",
       "      <th>Hour</th>\n",
       "    </tr>\n",
       "  </thead>\n",
       "  <tbody>\n",
       "    <tr>\n",
       "      <td>0</td>\n",
       "      <td>2014-06-02 04:23:16 UTC</td>\n",
       "      <td>233599337</td>\n",
       "      <td>5</td>\n",
       "      <td>Midwest</td>\n",
       "      <td>2014-06-02</td>\n",
       "      <td>04</td>\n",
       "    </tr>\n",
       "    <tr>\n",
       "      <td>1</td>\n",
       "      <td>2014-06-02 03:57:50 UTC</td>\n",
       "      <td>233599376</td>\n",
       "      <td>5</td>\n",
       "      <td>Midwest</td>\n",
       "      <td>2014-06-02</td>\n",
       "      <td>03</td>\n",
       "    </tr>\n",
       "    <tr>\n",
       "      <td>2</td>\n",
       "      <td>2014-06-02 02:52:38 UTC</td>\n",
       "      <td>233599328</td>\n",
       "      <td>5</td>\n",
       "      <td>Midwest</td>\n",
       "      <td>2014-06-02</td>\n",
       "      <td>02</td>\n",
       "    </tr>\n",
       "    <tr>\n",
       "      <td>3</td>\n",
       "      <td>2014-06-02 02:52:04 UTC</td>\n",
       "      <td>233599070</td>\n",
       "      <td>5</td>\n",
       "      <td>Midwest</td>\n",
       "      <td>2014-06-02</td>\n",
       "      <td>02</td>\n",
       "    </tr>\n",
       "    <tr>\n",
       "      <td>4</td>\n",
       "      <td>2014-06-02 02:41:43 UTC</td>\n",
       "      <td>233599100</td>\n",
       "      <td>5</td>\n",
       "      <td>Midwest</td>\n",
       "      <td>2014-06-02</td>\n",
       "      <td>02</td>\n",
       "    </tr>\n",
       "  </tbody>\n",
       "</table>\n",
       "</div>"
      ],
      "text/plain": [
       "                      Time      Order  Rating   Region        Date Hour\n",
       "0  2014-06-02 04:23:16 UTC  233599337       5  Midwest  2014-06-02   04\n",
       "1  2014-06-02 03:57:50 UTC  233599376       5  Midwest  2014-06-02   03\n",
       "2  2014-06-02 02:52:38 UTC  233599328       5  Midwest  2014-06-02   02\n",
       "3  2014-06-02 02:52:04 UTC  233599070       5  Midwest  2014-06-02   02\n",
       "4  2014-06-02 02:41:43 UTC  233599100       5  Midwest  2014-06-02   02"
      ]
     },
     "execution_count": 18,
     "metadata": {},
     "output_type": "execute_result"
    }
   ],
   "source": [
    "df.head()"
   ]
  },
  {
   "cell_type": "code",
   "execution_count": 19,
   "metadata": {},
   "outputs": [
    {
     "data": {
      "text/plain": [
       "Date\n",
       "2014-05-01    4.563265\n",
       "2014-05-02    4.686016\n",
       "2014-05-03    4.648438\n",
       "2014-05-04    4.449821\n",
       "2014-05-05    4.437117\n",
       "2014-05-06    4.552063\n",
       "2014-05-07    4.490783\n",
       "2014-05-08    4.496259\n",
       "2014-05-09    4.640845\n",
       "2014-05-10    4.591981\n",
       "2014-05-11    4.501866\n",
       "2014-05-12    4.584871\n",
       "2014-05-13    4.519011\n",
       "2014-05-14    4.572840\n",
       "2014-05-15    4.524390\n",
       "2014-05-16    4.610687\n",
       "2014-05-17    4.573441\n",
       "2014-05-18    4.508604\n",
       "2014-05-19    4.481216\n",
       "2014-05-20    4.500956\n",
       "2014-05-21    4.587601\n",
       "2014-05-22    4.616162\n",
       "2014-05-23    4.623223\n",
       "2014-05-24    4.632099\n",
       "2014-05-25    4.620968\n",
       "2014-05-26    4.730077\n",
       "2014-05-27    4.563895\n",
       "2014-05-28    4.423892\n",
       "2014-05-29    4.567059\n",
       "2014-05-30    4.650442\n",
       "2014-05-31    4.669834\n",
       "2014-06-01    4.585977\n",
       "2014-06-02    4.317992\n",
       "Name: Rating, dtype: float64"
      ]
     },
     "execution_count": 19,
     "metadata": {},
     "output_type": "execute_result"
    }
   ],
   "source": [
    "df1 = df.groupby([\"Date\"]).Rating.mean()\n",
    "df1"
   ]
  },
  {
   "cell_type": "code",
   "execution_count": 20,
   "metadata": {},
   "outputs": [
    {
     "data": {
      "text/plain": [
       "Date\n",
       "2014-05-01     True\n",
       "2014-05-02     True\n",
       "2014-05-03     True\n",
       "2014-05-04    False\n",
       "2014-05-05    False\n",
       "2014-05-06    False\n",
       "2014-05-07    False\n",
       "2014-05-08    False\n",
       "2014-05-09     True\n",
       "2014-05-10     True\n",
       "2014-05-11    False\n",
       "2014-05-12     True\n",
       "2014-05-13    False\n",
       "2014-05-14     True\n",
       "2014-05-15    False\n",
       "2014-05-16     True\n",
       "2014-05-17     True\n",
       "2014-05-18    False\n",
       "2014-05-19    False\n",
       "2014-05-20    False\n",
       "2014-05-21     True\n",
       "2014-05-22     True\n",
       "2014-05-23     True\n",
       "2014-05-24     True\n",
       "2014-05-25     True\n",
       "2014-05-26     True\n",
       "2014-05-27     True\n",
       "2014-05-28    False\n",
       "2014-05-29     True\n",
       "2014-05-30     True\n",
       "2014-05-31     True\n",
       "2014-06-01     True\n",
       "2014-06-02    False\n",
       "Name: Rating, dtype: bool"
      ]
     },
     "execution_count": 20,
     "metadata": {},
     "output_type": "execute_result"
    }
   ],
   "source": [
    "df1 >= 4.558200 # check if it's above the average rating"
   ]
  },
  {
   "cell_type": "code",
   "execution_count": 21,
   "metadata": {},
   "outputs": [
    {
     "data": {
      "text/plain": [
       "Date\n",
       "2014-05-01    245\n",
       "2014-05-02    379\n",
       "2014-05-03    512\n",
       "2014-05-04    558\n",
       "2014-05-05    652\n",
       "2014-05-06    509\n",
       "2014-05-07    434\n",
       "2014-05-08    401\n",
       "2014-05-09    426\n",
       "2014-05-10    424\n",
       "2014-05-11    536\n",
       "2014-05-12    542\n",
       "2014-05-13    526\n",
       "2014-05-14    405\n",
       "2014-05-15    410\n",
       "2014-05-16    393\n",
       "2014-05-17    497\n",
       "2014-05-18    523\n",
       "2014-05-19    559\n",
       "2014-05-20    523\n",
       "2014-05-21    371\n",
       "2014-05-22    396\n",
       "2014-05-23    422\n",
       "2014-05-24    405\n",
       "2014-05-25    372\n",
       "2014-05-26    389\n",
       "2014-05-27    493\n",
       "2014-05-28    519\n",
       "2014-05-29    425\n",
       "2014-05-30    452\n",
       "2014-05-31    421\n",
       "2014-06-01    599\n",
       "2014-06-02    239\n",
       "dtype: int64"
      ]
     },
     "execution_count": 21,
     "metadata": {},
     "output_type": "execute_result"
    }
   ],
   "source": [
    "df.groupby([\"Date\"]).size()"
   ]
  },
  {
   "cell_type": "code",
   "execution_count": 22,
   "metadata": {},
   "outputs": [
    {
     "data": {
      "text/plain": [
       "Hour\n",
       "00    4.546471\n",
       "01    4.512761\n",
       "02    4.550926\n",
       "03    4.504286\n",
       "04    4.560096\n",
       "05    4.366379\n",
       "06    3.767857\n",
       "07    2.444444\n",
       "08    3.333333\n",
       "09    2.166667\n",
       "11    3.000000\n",
       "12    2.571429\n",
       "13    4.721519\n",
       "14    4.701493\n",
       "15    4.542683\n",
       "16    4.541814\n",
       "17    4.533201\n",
       "18    4.601525\n",
       "19    4.607276\n",
       "20    4.591155\n",
       "21    4.599479\n",
       "22    4.583866\n",
       "23    4.591236\n",
       "Name: Rating, dtype: float64"
      ]
     },
     "execution_count": 22,
     "metadata": {},
     "output_type": "execute_result"
    }
   ],
   "source": [
    "df2 = df.groupby([\"Hour\"]).Rating.mean()\n",
    "df2"
   ]
  },
  {
   "cell_type": "code",
   "execution_count": 23,
   "metadata": {},
   "outputs": [
    {
     "data": {
      "text/plain": [
       "Hour\n",
       "00    False\n",
       "01    False\n",
       "02    False\n",
       "03    False\n",
       "04     True\n",
       "05    False\n",
       "06    False\n",
       "07    False\n",
       "08    False\n",
       "09    False\n",
       "11    False\n",
       "12    False\n",
       "13     True\n",
       "14     True\n",
       "15    False\n",
       "16    False\n",
       "17    False\n",
       "18     True\n",
       "19     True\n",
       "20     True\n",
       "21     True\n",
       "22     True\n",
       "23     True\n",
       "Name: Rating, dtype: bool"
      ]
     },
     "execution_count": 23,
     "metadata": {},
     "output_type": "execute_result"
    }
   ],
   "source": [
    "df2 >= 4.558200"
   ]
  },
  {
   "cell_type": "code",
   "execution_count": 24,
   "metadata": {},
   "outputs": [
    {
     "data": {
      "text/plain": [
       "Hour\n",
       "00    1431\n",
       "01    1293\n",
       "02    1080\n",
       "03     700\n",
       "04     416\n",
       "05     232\n",
       "06      56\n",
       "07       9\n",
       "08       3\n",
       "09       6\n",
       "11       3\n",
       "12       7\n",
       "13      79\n",
       "14     268\n",
       "15     492\n",
       "16     849\n",
       "17    1009\n",
       "18    1049\n",
       "19    1072\n",
       "20    1108\n",
       "21    1151\n",
       "22    1252\n",
       "23    1392\n",
       "dtype: int64"
      ]
     },
     "execution_count": 24,
     "metadata": {},
     "output_type": "execute_result"
    }
   ],
   "source": [
    "df.groupby([\"Hour\"]).size()"
   ]
  }
 ],
 "metadata": {
  "kernelspec": {
   "display_name": "Python 3",
   "language": "python",
   "name": "python3"
  },
  "language_info": {
   "codemirror_mode": {
    "name": "ipython",
    "version": 3
   },
   "file_extension": ".py",
   "mimetype": "text/x-python",
   "name": "python",
   "nbconvert_exporter": "python",
   "pygments_lexer": "ipython3",
   "version": "3.7.4"
  }
 },
 "nbformat": 4,
 "nbformat_minor": 4
}
